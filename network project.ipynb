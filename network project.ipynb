{
 "cells": [
  {
   "cell_type": "code",
   "execution_count": 1,
   "id": "6b48c532",
   "metadata": {},
   "outputs": [],
   "source": [
    "import pandas as pd"
   ]
  },
  {
   "cell_type": "code",
   "execution_count": 3,
   "id": "911ecf64",
   "metadata": {},
   "outputs": [
    {
     "name": "stdout",
     "output_type": "stream",
     "text": [
      "Collecting openpyxl\n",
      "  Downloading openpyxl-3.1.5-py2.py3-none-any.whl.metadata (2.5 kB)\n",
      "Collecting et-xmlfile (from openpyxl)\n",
      "  Downloading et_xmlfile-2.0.0-py3-none-any.whl.metadata (2.7 kB)\n",
      "Downloading openpyxl-3.1.5-py2.py3-none-any.whl (250 kB)\n",
      "Downloading et_xmlfile-2.0.0-py3-none-any.whl (18 kB)\n",
      "Installing collected packages: et-xmlfile, openpyxl\n",
      "Successfully installed et-xmlfile-2.0.0 openpyxl-3.1.5\n"
     ]
    }
   ],
   "source": [
    "!pip install openpyxl"
   ]
  },
  {
   "cell_type": "code",
   "execution_count": 7,
   "id": "82fceac7",
   "metadata": {},
   "outputs": [],
   "source": [
    "df = pd.read_excel(\"studentcourses.xlsx\",sheet_name=[\"حاسب الي\"])"
   ]
  },
  {
   "cell_type": "code",
   "execution_count": 10,
   "id": "0cc59b7d",
   "metadata": {},
   "outputs": [
    {
     "data": {
      "application/vnd.microsoft.datawrangler.viewer.v0+json": {
       "columns": [
        {
         "name": "index",
         "rawType": "int64",
         "type": "integer"
        },
        {
         "name": "Unnamed: 0",
         "rawType": "object",
         "type": "unknown"
        },
        {
         "name": "Unnamed: 1",
         "rawType": "object",
         "type": "unknown"
        },
        {
         "name": "Unnamed: 2",
         "rawType": "object",
         "type": "string"
        },
        {
         "name": "Unnamed: 3",
         "rawType": "object",
         "type": "string"
        },
        {
         "name": "Unnamed: 4",
         "rawType": "object",
         "type": "unknown"
        },
        {
         "name": "Unnamed: 5",
         "rawType": "object",
         "type": "string"
        },
        {
         "name": "Unnamed: 6",
         "rawType": "object",
         "type": "string"
        },
        {
         "name": "Unnamed: 7",
         "rawType": "object",
         "type": "unknown"
        }
       ],
       "conversionMethod": "pd.DataFrame",
       "ref": "cee434e4-dafb-41a6-8502-1b2ec3357c74",
       "rows": [
        [
         "0",
         "م",
         "رقم الطالب",
         "اسم الطالب",
         "التخصص",
         "رقم المقرر",
         "اسم المقرر",
         "رمز المقرر",
         "رقم الشعبة"
        ],
        [
         "1",
         "1",
         "1502302012",
         "محمد سليمان محمد الخضيري",
         "علوم الحاسب",
         "150290",
         "اختياري قسم",
         "عال",
         "215245"
        ],
        [
         "2",
         "2",
         "1502321001",
         "عبدالله حمد ابراهيم الصائغ",
         "علوم الحاسب",
         "150286",
         "اختياري قسم",
         "عال",
         "115242"
        ],
        [
         "3",
         "3",
         "1501321027",
         "عبدالرحمن محمد ابراهيم العيسوي",
         "هندسة الحاسب",
         "150315",
         "اختياري قسم",
         "عال",
         "115252"
        ],
        [
         "4",
         "4",
         "1501321027",
         "عبدالرحمن محمد ابراهيم العيسوي",
         "هندسة الحاسب",
         "150316",
         "اختياري قسم",
         "عال",
         "115253"
        ]
       ],
       "shape": {
        "columns": 8,
        "rows": 5
       }
      },
      "text/html": [
       "<div>\n",
       "<style scoped>\n",
       "    .dataframe tbody tr th:only-of-type {\n",
       "        vertical-align: middle;\n",
       "    }\n",
       "\n",
       "    .dataframe tbody tr th {\n",
       "        vertical-align: top;\n",
       "    }\n",
       "\n",
       "    .dataframe thead th {\n",
       "        text-align: right;\n",
       "    }\n",
       "</style>\n",
       "<table border=\"1\" class=\"dataframe\">\n",
       "  <thead>\n",
       "    <tr style=\"text-align: right;\">\n",
       "      <th></th>\n",
       "      <th>Unnamed: 0</th>\n",
       "      <th>Unnamed: 1</th>\n",
       "      <th>Unnamed: 2</th>\n",
       "      <th>Unnamed: 3</th>\n",
       "      <th>Unnamed: 4</th>\n",
       "      <th>Unnamed: 5</th>\n",
       "      <th>Unnamed: 6</th>\n",
       "      <th>Unnamed: 7</th>\n",
       "    </tr>\n",
       "  </thead>\n",
       "  <tbody>\n",
       "    <tr>\n",
       "      <th>0</th>\n",
       "      <td>م</td>\n",
       "      <td>رقم الطالب</td>\n",
       "      <td>اسم الطالب</td>\n",
       "      <td>التخصص</td>\n",
       "      <td>رقم المقرر</td>\n",
       "      <td>اسم المقرر</td>\n",
       "      <td>رمز المقرر</td>\n",
       "      <td>رقم الشعبة</td>\n",
       "    </tr>\n",
       "    <tr>\n",
       "      <th>1</th>\n",
       "      <td>1</td>\n",
       "      <td>1502302012</td>\n",
       "      <td>محمد سليمان محمد الخضيري</td>\n",
       "      <td>علوم الحاسب</td>\n",
       "      <td>150290</td>\n",
       "      <td>اختياري قسم</td>\n",
       "      <td>عال</td>\n",
       "      <td>215245</td>\n",
       "    </tr>\n",
       "    <tr>\n",
       "      <th>2</th>\n",
       "      <td>2</td>\n",
       "      <td>1502321001</td>\n",
       "      <td>عبدالله حمد ابراهيم الصائغ</td>\n",
       "      <td>علوم الحاسب</td>\n",
       "      <td>150286</td>\n",
       "      <td>اختياري قسم</td>\n",
       "      <td>عال</td>\n",
       "      <td>115242</td>\n",
       "    </tr>\n",
       "    <tr>\n",
       "      <th>3</th>\n",
       "      <td>3</td>\n",
       "      <td>1501321027</td>\n",
       "      <td>عبدالرحمن محمد ابراهيم العيسوي</td>\n",
       "      <td>هندسة الحاسب</td>\n",
       "      <td>150315</td>\n",
       "      <td>اختياري قسم</td>\n",
       "      <td>عال</td>\n",
       "      <td>115252</td>\n",
       "    </tr>\n",
       "    <tr>\n",
       "      <th>4</th>\n",
       "      <td>4</td>\n",
       "      <td>1501321027</td>\n",
       "      <td>عبدالرحمن محمد ابراهيم العيسوي</td>\n",
       "      <td>هندسة الحاسب</td>\n",
       "      <td>150316</td>\n",
       "      <td>اختياري قسم</td>\n",
       "      <td>عال</td>\n",
       "      <td>115253</td>\n",
       "    </tr>\n",
       "  </tbody>\n",
       "</table>\n",
       "</div>"
      ],
      "text/plain": [
       "  Unnamed: 0  Unnamed: 1                      Unnamed: 2    Unnamed: 3  \\\n",
       "0          م  رقم الطالب                      اسم الطالب        التخصص   \n",
       "1          1  1502302012        محمد سليمان محمد الخضيري   علوم الحاسب   \n",
       "2          2  1502321001      عبدالله حمد ابراهيم الصائغ   علوم الحاسب   \n",
       "3          3  1501321027  عبدالرحمن محمد ابراهيم العيسوي  هندسة الحاسب   \n",
       "4          4  1501321027  عبدالرحمن محمد ابراهيم العيسوي  هندسة الحاسب   \n",
       "\n",
       "   Unnamed: 4   Unnamed: 5  Unnamed: 6  Unnamed: 7  \n",
       "0  رقم المقرر   اسم المقرر  رمز المقرر  رقم الشعبة  \n",
       "1      150290  اختياري قسم         عال      215245  \n",
       "2      150286  اختياري قسم         عال      115242  \n",
       "3      150315  اختياري قسم         عال      115252  \n",
       "4      150316  اختياري قسم         عال      115253  "
      ]
     },
     "execution_count": 10,
     "metadata": {},
     "output_type": "execute_result"
    }
   ],
   "source": [
    "df1 = df[\"حاسب الي\"]\n",
    "df1.head()"
   ]
  },
  {
   "cell_type": "code",
   "execution_count": 14,
   "id": "4137cc13",
   "metadata": {},
   "outputs": [],
   "source": [
    "# drop first column\n",
    "df1 = df1.drop(df1.columns[0], axis=1)"
   ]
  },
  {
   "cell_type": "code",
   "execution_count": 15,
   "id": "18fa64fa",
   "metadata": {},
   "outputs": [
    {
     "data": {
      "application/vnd.microsoft.datawrangler.viewer.v0+json": {
       "columns": [
        {
         "name": "index",
         "rawType": "int64",
         "type": "integer"
        },
        {
         "name": "Unnamed: 1",
         "rawType": "object",
         "type": "unknown"
        },
        {
         "name": "Unnamed: 2",
         "rawType": "object",
         "type": "string"
        },
        {
         "name": "Unnamed: 3",
         "rawType": "object",
         "type": "string"
        },
        {
         "name": "Unnamed: 4",
         "rawType": "object",
         "type": "unknown"
        },
        {
         "name": "Unnamed: 5",
         "rawType": "object",
         "type": "string"
        },
        {
         "name": "Unnamed: 6",
         "rawType": "object",
         "type": "string"
        },
        {
         "name": "Unnamed: 7",
         "rawType": "object",
         "type": "unknown"
        }
       ],
       "conversionMethod": "pd.DataFrame",
       "ref": "020aac0a-aa95-4145-81bd-9f08b2fa1cff",
       "rows": [
        [
         "0",
         "رقم الطالب",
         "اسم الطالب",
         "التخصص",
         "رقم المقرر",
         "اسم المقرر",
         "رمز المقرر",
         "رقم الشعبة"
        ],
        [
         "1",
         "1502302012",
         "محمد سليمان محمد الخضيري",
         "علوم الحاسب",
         "150290",
         "اختياري قسم",
         "عال",
         "215245"
        ],
        [
         "2",
         "1502321001",
         "عبدالله حمد ابراهيم الصائغ",
         "علوم الحاسب",
         "150286",
         "اختياري قسم",
         "عال",
         "115242"
        ],
        [
         "3",
         "1501321027",
         "عبدالرحمن محمد ابراهيم العيسوي",
         "هندسة الحاسب",
         "150315",
         "اختياري قسم",
         "عال",
         "115252"
        ],
        [
         "4",
         "1501321027",
         "عبدالرحمن محمد ابراهيم العيسوي",
         "هندسة الحاسب",
         "150316",
         "اختياري قسم",
         "عال",
         "115253"
        ]
       ],
       "shape": {
        "columns": 7,
        "rows": 5
       }
      },
      "text/html": [
       "<div>\n",
       "<style scoped>\n",
       "    .dataframe tbody tr th:only-of-type {\n",
       "        vertical-align: middle;\n",
       "    }\n",
       "\n",
       "    .dataframe tbody tr th {\n",
       "        vertical-align: top;\n",
       "    }\n",
       "\n",
       "    .dataframe thead th {\n",
       "        text-align: right;\n",
       "    }\n",
       "</style>\n",
       "<table border=\"1\" class=\"dataframe\">\n",
       "  <thead>\n",
       "    <tr style=\"text-align: right;\">\n",
       "      <th></th>\n",
       "      <th>Unnamed: 1</th>\n",
       "      <th>Unnamed: 2</th>\n",
       "      <th>Unnamed: 3</th>\n",
       "      <th>Unnamed: 4</th>\n",
       "      <th>Unnamed: 5</th>\n",
       "      <th>Unnamed: 6</th>\n",
       "      <th>Unnamed: 7</th>\n",
       "    </tr>\n",
       "  </thead>\n",
       "  <tbody>\n",
       "    <tr>\n",
       "      <th>0</th>\n",
       "      <td>رقم الطالب</td>\n",
       "      <td>اسم الطالب</td>\n",
       "      <td>التخصص</td>\n",
       "      <td>رقم المقرر</td>\n",
       "      <td>اسم المقرر</td>\n",
       "      <td>رمز المقرر</td>\n",
       "      <td>رقم الشعبة</td>\n",
       "    </tr>\n",
       "    <tr>\n",
       "      <th>1</th>\n",
       "      <td>1502302012</td>\n",
       "      <td>محمد سليمان محمد الخضيري</td>\n",
       "      <td>علوم الحاسب</td>\n",
       "      <td>150290</td>\n",
       "      <td>اختياري قسم</td>\n",
       "      <td>عال</td>\n",
       "      <td>215245</td>\n",
       "    </tr>\n",
       "    <tr>\n",
       "      <th>2</th>\n",
       "      <td>1502321001</td>\n",
       "      <td>عبدالله حمد ابراهيم الصائغ</td>\n",
       "      <td>علوم الحاسب</td>\n",
       "      <td>150286</td>\n",
       "      <td>اختياري قسم</td>\n",
       "      <td>عال</td>\n",
       "      <td>115242</td>\n",
       "    </tr>\n",
       "    <tr>\n",
       "      <th>3</th>\n",
       "      <td>1501321027</td>\n",
       "      <td>عبدالرحمن محمد ابراهيم العيسوي</td>\n",
       "      <td>هندسة الحاسب</td>\n",
       "      <td>150315</td>\n",
       "      <td>اختياري قسم</td>\n",
       "      <td>عال</td>\n",
       "      <td>115252</td>\n",
       "    </tr>\n",
       "    <tr>\n",
       "      <th>4</th>\n",
       "      <td>1501321027</td>\n",
       "      <td>عبدالرحمن محمد ابراهيم العيسوي</td>\n",
       "      <td>هندسة الحاسب</td>\n",
       "      <td>150316</td>\n",
       "      <td>اختياري قسم</td>\n",
       "      <td>عال</td>\n",
       "      <td>115253</td>\n",
       "    </tr>\n",
       "  </tbody>\n",
       "</table>\n",
       "</div>"
      ],
      "text/plain": [
       "   Unnamed: 1                      Unnamed: 2    Unnamed: 3  Unnamed: 4  \\\n",
       "0  رقم الطالب                      اسم الطالب        التخصص  رقم المقرر   \n",
       "1  1502302012        محمد سليمان محمد الخضيري   علوم الحاسب      150290   \n",
       "2  1502321001      عبدالله حمد ابراهيم الصائغ   علوم الحاسب      150286   \n",
       "3  1501321027  عبدالرحمن محمد ابراهيم العيسوي  هندسة الحاسب      150315   \n",
       "4  1501321027  عبدالرحمن محمد ابراهيم العيسوي  هندسة الحاسب      150316   \n",
       "\n",
       "    Unnamed: 5  Unnamed: 6  Unnamed: 7  \n",
       "0   اسم المقرر  رمز المقرر  رقم الشعبة  \n",
       "1  اختياري قسم         عال      215245  \n",
       "2  اختياري قسم         عال      115242  \n",
       "3  اختياري قسم         عال      115252  \n",
       "4  اختياري قسم         عال      115253  "
      ]
     },
     "execution_count": 15,
     "metadata": {},
     "output_type": "execute_result"
    }
   ],
   "source": [
    "df1.head()"
   ]
  },
  {
   "cell_type": "code",
   "execution_count": 16,
   "id": "f8127b40",
   "metadata": {},
   "outputs": [
    {
     "data": {
      "text/plain": [
       "Unnamed: 1    رقم الطالب\n",
       "Unnamed: 2    اسم الطالب\n",
       "Unnamed: 3        التخصص\n",
       "Unnamed: 4    رقم المقرر\n",
       "Unnamed: 5    اسم المقرر\n",
       "Unnamed: 6    رمز المقرر\n",
       "Unnamed: 7    رقم الشعبة\n",
       "Name: 0, dtype: object"
      ]
     },
     "execution_count": 16,
     "metadata": {},
     "output_type": "execute_result"
    }
   ],
   "source": [
    "df1.iloc[0]"
   ]
  },
  {
   "cell_type": "code",
   "execution_count": 17,
   "id": "58f92c41",
   "metadata": {},
   "outputs": [],
   "source": [
    "# change cloum names to df1.iloc[0]\n",
    "df1.columns = df1.iloc[0]"
   ]
  },
  {
   "cell_type": "code",
   "execution_count": 18,
   "id": "daaa3f98",
   "metadata": {},
   "outputs": [
    {
     "data": {
      "application/vnd.microsoft.datawrangler.viewer.v0+json": {
       "columns": [
        {
         "name": "index",
         "rawType": "int64",
         "type": "integer"
        },
        {
         "name": "رقم الطالب",
         "rawType": "object",
         "type": "unknown"
        },
        {
         "name": "اسم الطالب",
         "rawType": "object",
         "type": "string"
        },
        {
         "name": "التخصص",
         "rawType": "object",
         "type": "string"
        },
        {
         "name": "رقم المقرر",
         "rawType": "object",
         "type": "unknown"
        },
        {
         "name": "اسم المقرر",
         "rawType": "object",
         "type": "string"
        },
        {
         "name": "رمز المقرر",
         "rawType": "object",
         "type": "string"
        },
        {
         "name": "رقم الشعبة",
         "rawType": "object",
         "type": "unknown"
        }
       ],
       "conversionMethod": "pd.DataFrame",
       "ref": "103b4c8b-0c25-4123-8890-31924d28bfde",
       "rows": [
        [
         "0",
         "رقم الطالب",
         "اسم الطالب",
         "التخصص",
         "رقم المقرر",
         "اسم المقرر",
         "رمز المقرر",
         "رقم الشعبة"
        ],
        [
         "1",
         "1502302012",
         "محمد سليمان محمد الخضيري",
         "علوم الحاسب",
         "150290",
         "اختياري قسم",
         "عال",
         "215245"
        ],
        [
         "2",
         "1502321001",
         "عبدالله حمد ابراهيم الصائغ",
         "علوم الحاسب",
         "150286",
         "اختياري قسم",
         "عال",
         "115242"
        ],
        [
         "3",
         "1501321027",
         "عبدالرحمن محمد ابراهيم العيسوي",
         "هندسة الحاسب",
         "150315",
         "اختياري قسم",
         "عال",
         "115252"
        ],
        [
         "4",
         "1501321027",
         "عبدالرحمن محمد ابراهيم العيسوي",
         "هندسة الحاسب",
         "150316",
         "اختياري قسم",
         "عال",
         "115253"
        ]
       ],
       "shape": {
        "columns": 7,
        "rows": 5
       }
      },
      "text/html": [
       "<div>\n",
       "<style scoped>\n",
       "    .dataframe tbody tr th:only-of-type {\n",
       "        vertical-align: middle;\n",
       "    }\n",
       "\n",
       "    .dataframe tbody tr th {\n",
       "        vertical-align: top;\n",
       "    }\n",
       "\n",
       "    .dataframe thead th {\n",
       "        text-align: right;\n",
       "    }\n",
       "</style>\n",
       "<table border=\"1\" class=\"dataframe\">\n",
       "  <thead>\n",
       "    <tr style=\"text-align: right;\">\n",
       "      <th></th>\n",
       "      <th>رقم الطالب</th>\n",
       "      <th>اسم الطالب</th>\n",
       "      <th>التخصص</th>\n",
       "      <th>رقم المقرر</th>\n",
       "      <th>اسم المقرر</th>\n",
       "      <th>رمز المقرر</th>\n",
       "      <th>رقم الشعبة</th>\n",
       "    </tr>\n",
       "  </thead>\n",
       "  <tbody>\n",
       "    <tr>\n",
       "      <th>0</th>\n",
       "      <td>رقم الطالب</td>\n",
       "      <td>اسم الطالب</td>\n",
       "      <td>التخصص</td>\n",
       "      <td>رقم المقرر</td>\n",
       "      <td>اسم المقرر</td>\n",
       "      <td>رمز المقرر</td>\n",
       "      <td>رقم الشعبة</td>\n",
       "    </tr>\n",
       "    <tr>\n",
       "      <th>1</th>\n",
       "      <td>1502302012</td>\n",
       "      <td>محمد سليمان محمد الخضيري</td>\n",
       "      <td>علوم الحاسب</td>\n",
       "      <td>150290</td>\n",
       "      <td>اختياري قسم</td>\n",
       "      <td>عال</td>\n",
       "      <td>215245</td>\n",
       "    </tr>\n",
       "    <tr>\n",
       "      <th>2</th>\n",
       "      <td>1502321001</td>\n",
       "      <td>عبدالله حمد ابراهيم الصائغ</td>\n",
       "      <td>علوم الحاسب</td>\n",
       "      <td>150286</td>\n",
       "      <td>اختياري قسم</td>\n",
       "      <td>عال</td>\n",
       "      <td>115242</td>\n",
       "    </tr>\n",
       "    <tr>\n",
       "      <th>3</th>\n",
       "      <td>1501321027</td>\n",
       "      <td>عبدالرحمن محمد ابراهيم العيسوي</td>\n",
       "      <td>هندسة الحاسب</td>\n",
       "      <td>150315</td>\n",
       "      <td>اختياري قسم</td>\n",
       "      <td>عال</td>\n",
       "      <td>115252</td>\n",
       "    </tr>\n",
       "    <tr>\n",
       "      <th>4</th>\n",
       "      <td>1501321027</td>\n",
       "      <td>عبدالرحمن محمد ابراهيم العيسوي</td>\n",
       "      <td>هندسة الحاسب</td>\n",
       "      <td>150316</td>\n",
       "      <td>اختياري قسم</td>\n",
       "      <td>عال</td>\n",
       "      <td>115253</td>\n",
       "    </tr>\n",
       "  </tbody>\n",
       "</table>\n",
       "</div>"
      ],
      "text/plain": [
       "0  رقم الطالب                      اسم الطالب        التخصص  رقم المقرر  \\\n",
       "0  رقم الطالب                      اسم الطالب        التخصص  رقم المقرر   \n",
       "1  1502302012        محمد سليمان محمد الخضيري   علوم الحاسب      150290   \n",
       "2  1502321001      عبدالله حمد ابراهيم الصائغ   علوم الحاسب      150286   \n",
       "3  1501321027  عبدالرحمن محمد ابراهيم العيسوي  هندسة الحاسب      150315   \n",
       "4  1501321027  عبدالرحمن محمد ابراهيم العيسوي  هندسة الحاسب      150316   \n",
       "\n",
       "0   اسم المقرر  رمز المقرر  رقم الشعبة  \n",
       "0   اسم المقرر  رمز المقرر  رقم الشعبة  \n",
       "1  اختياري قسم         عال      215245  \n",
       "2  اختياري قسم         عال      115242  \n",
       "3  اختياري قسم         عال      115252  \n",
       "4  اختياري قسم         عال      115253  "
      ]
     },
     "execution_count": 18,
     "metadata": {},
     "output_type": "execute_result"
    }
   ],
   "source": [
    "df1.head()"
   ]
  },
  {
   "cell_type": "code",
   "execution_count": 19,
   "id": "63c1bbb1",
   "metadata": {},
   "outputs": [
    {
     "data": {
      "application/vnd.microsoft.datawrangler.viewer.v0+json": {
       "columns": [
        {
         "name": "index",
         "rawType": "int64",
         "type": "integer"
        },
        {
         "name": "رقم الطالب",
         "rawType": "object",
         "type": "unknown"
        },
        {
         "name": "اسم الطالب",
         "rawType": "object",
         "type": "string"
        },
        {
         "name": "التخصص",
         "rawType": "object",
         "type": "string"
        },
        {
         "name": "رقم المقرر",
         "rawType": "object",
         "type": "unknown"
        },
        {
         "name": "اسم المقرر",
         "rawType": "object",
         "type": "string"
        },
        {
         "name": "رمز المقرر",
         "rawType": "object",
         "type": "string"
        },
        {
         "name": "رقم الشعبة",
         "rawType": "object",
         "type": "unknown"
        }
       ],
       "conversionMethod": "pd.DataFrame",
       "ref": "223e59e0-f895-4186-879d-b84ae3ea0279",
       "rows": [
        [
         "1",
         "1502302012",
         "محمد سليمان محمد الخضيري",
         "علوم الحاسب",
         "150290",
         "اختياري قسم",
         "عال",
         "215245"
        ],
        [
         "2",
         "1502321001",
         "عبدالله حمد ابراهيم الصائغ",
         "علوم الحاسب",
         "150286",
         "اختياري قسم",
         "عال",
         "115242"
        ],
        [
         "3",
         "1501321027",
         "عبدالرحمن محمد ابراهيم العيسوي",
         "هندسة الحاسب",
         "150315",
         "اختياري قسم",
         "عال",
         "115252"
        ],
        [
         "4",
         "1501321027",
         "عبدالرحمن محمد ابراهيم العيسوي",
         "هندسة الحاسب",
         "150316",
         "اختياري قسم",
         "عال",
         "115253"
        ],
        [
         "5",
         "1502322007",
         "أحمد محمد الجبيري الحربي",
         "علوم الحاسب",
         "150290",
         "اختياري قسم",
         "عال",
         "215245"
        ]
       ],
       "shape": {
        "columns": 7,
        "rows": 5
       }
      },
      "text/html": [
       "<div>\n",
       "<style scoped>\n",
       "    .dataframe tbody tr th:only-of-type {\n",
       "        vertical-align: middle;\n",
       "    }\n",
       "\n",
       "    .dataframe tbody tr th {\n",
       "        vertical-align: top;\n",
       "    }\n",
       "\n",
       "    .dataframe thead th {\n",
       "        text-align: right;\n",
       "    }\n",
       "</style>\n",
       "<table border=\"1\" class=\"dataframe\">\n",
       "  <thead>\n",
       "    <tr style=\"text-align: right;\">\n",
       "      <th></th>\n",
       "      <th>رقم الطالب</th>\n",
       "      <th>اسم الطالب</th>\n",
       "      <th>التخصص</th>\n",
       "      <th>رقم المقرر</th>\n",
       "      <th>اسم المقرر</th>\n",
       "      <th>رمز المقرر</th>\n",
       "      <th>رقم الشعبة</th>\n",
       "    </tr>\n",
       "  </thead>\n",
       "  <tbody>\n",
       "    <tr>\n",
       "      <th>1</th>\n",
       "      <td>1502302012</td>\n",
       "      <td>محمد سليمان محمد الخضيري</td>\n",
       "      <td>علوم الحاسب</td>\n",
       "      <td>150290</td>\n",
       "      <td>اختياري قسم</td>\n",
       "      <td>عال</td>\n",
       "      <td>215245</td>\n",
       "    </tr>\n",
       "    <tr>\n",
       "      <th>2</th>\n",
       "      <td>1502321001</td>\n",
       "      <td>عبدالله حمد ابراهيم الصائغ</td>\n",
       "      <td>علوم الحاسب</td>\n",
       "      <td>150286</td>\n",
       "      <td>اختياري قسم</td>\n",
       "      <td>عال</td>\n",
       "      <td>115242</td>\n",
       "    </tr>\n",
       "    <tr>\n",
       "      <th>3</th>\n",
       "      <td>1501321027</td>\n",
       "      <td>عبدالرحمن محمد ابراهيم العيسوي</td>\n",
       "      <td>هندسة الحاسب</td>\n",
       "      <td>150315</td>\n",
       "      <td>اختياري قسم</td>\n",
       "      <td>عال</td>\n",
       "      <td>115252</td>\n",
       "    </tr>\n",
       "    <tr>\n",
       "      <th>4</th>\n",
       "      <td>1501321027</td>\n",
       "      <td>عبدالرحمن محمد ابراهيم العيسوي</td>\n",
       "      <td>هندسة الحاسب</td>\n",
       "      <td>150316</td>\n",
       "      <td>اختياري قسم</td>\n",
       "      <td>عال</td>\n",
       "      <td>115253</td>\n",
       "    </tr>\n",
       "    <tr>\n",
       "      <th>5</th>\n",
       "      <td>1502322007</td>\n",
       "      <td>أحمد محمد الجبيري الحربي</td>\n",
       "      <td>علوم الحاسب</td>\n",
       "      <td>150290</td>\n",
       "      <td>اختياري قسم</td>\n",
       "      <td>عال</td>\n",
       "      <td>215245</td>\n",
       "    </tr>\n",
       "  </tbody>\n",
       "</table>\n",
       "</div>"
      ],
      "text/plain": [
       "0  رقم الطالب                      اسم الطالب        التخصص رقم المقرر  \\\n",
       "1  1502302012        محمد سليمان محمد الخضيري   علوم الحاسب     150290   \n",
       "2  1502321001      عبدالله حمد ابراهيم الصائغ   علوم الحاسب     150286   \n",
       "3  1501321027  عبدالرحمن محمد ابراهيم العيسوي  هندسة الحاسب     150315   \n",
       "4  1501321027  عبدالرحمن محمد ابراهيم العيسوي  هندسة الحاسب     150316   \n",
       "5  1502322007        أحمد محمد الجبيري الحربي   علوم الحاسب     150290   \n",
       "\n",
       "0   اسم المقرر رمز المقرر رقم الشعبة  \n",
       "1  اختياري قسم        عال     215245  \n",
       "2  اختياري قسم        عال     115242  \n",
       "3  اختياري قسم        عال     115252  \n",
       "4  اختياري قسم        عال     115253  \n",
       "5  اختياري قسم        عال     215245  "
      ]
     },
     "execution_count": 19,
     "metadata": {},
     "output_type": "execute_result"
    }
   ],
   "source": [
    "# drop first row \n",
    "df1 = df1.drop(df1.index[0])\n",
    "df1.head()"
   ]
  }
 ],
 "metadata": {
  "kernelspec": {
   "display_name": "base",
   "language": "python",
   "name": "python3"
  },
  "language_info": {
   "codemirror_mode": {
    "name": "ipython",
    "version": 3
   },
   "file_extension": ".py",
   "mimetype": "text/x-python",
   "name": "python",
   "nbconvert_exporter": "python",
   "pygments_lexer": "ipython3",
   "version": "3.12.3"
  }
 },
 "nbformat": 4,
 "nbformat_minor": 5
}
